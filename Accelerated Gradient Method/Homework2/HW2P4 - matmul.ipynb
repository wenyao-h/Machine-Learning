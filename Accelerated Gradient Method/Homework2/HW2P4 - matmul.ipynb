{
 "cells": [
  {
   "cell_type": "code",
   "execution_count": 7,
   "metadata": {},
   "outputs": [],
   "source": [
    "import pandas as pd\n",
    "import numpy as np\n",
    "\n",
    "data_train = pd.read_csv('./p4/train_data.csv').iloc[:, 1:] #leave out the idx\n",
    "data_test = pd.read_csv('./p4/test_data.csv').iloc[:, 1:]\n",
    "\n",
    "x_train = data_train.iloc[:, :-1]\n",
    "x_test = data_test.iloc[:, :-1]\n",
    "y_train = data_train.iloc[:, -1]\n",
    "y_test = data_test.iloc[:, -1]"
   ]
  },
  {
   "cell_type": "code",
   "execution_count": 8,
   "metadata": {},
   "outputs": [],
   "source": [
    "# Normalization\n",
    "from sklearn.preprocessing import StandardScaler\n",
    "\n",
    "scaler = StandardScaler()\n",
    "x_train_std = np.mat(scaler.fit_transform(x_train))\n",
    "x_test_std = np.mat(scaler.fit_transform(x_test))\n",
    "\n",
    "# One-hot Coding\n",
    "\n",
    "y_train_dummy = np.mat(pd.get_dummies(y_train))\n",
    "y_test_dummy = np.mat(pd.get_dummies(y_test))"
   ]
  },
  {
   "cell_type": "code",
   "execution_count": 9,
   "metadata": {},
   "outputs": [
    {
     "data": {
      "text/plain": [
       "matrix([[0, 0, 1, 0]], dtype=uint8)"
      ]
     },
     "execution_count": 9,
     "metadata": {},
     "output_type": "execute_result"
    }
   ],
   "source": [
    "y_train_dummy[1]"
   ]
  },
  {
   "cell_type": "code",
   "execution_count": 10,
   "metadata": {},
   "outputs": [
    {
     "data": {
      "text/plain": [
       "4"
      ]
     },
     "execution_count": 10,
     "metadata": {},
     "output_type": "execute_result"
    }
   ],
   "source": [
    "K = len(pd.value_counts(y_train))\n",
    "K"
   ]
  },
  {
   "cell_type": "code",
   "execution_count": 11,
   "metadata": {},
   "outputs": [],
   "source": [
    "import math\n",
    "import numpy as np\n",
    "from functools import reduce\n",
    "\n",
    "def Softmax(x, y, theta_):\n",
    "    '''\n",
    "    x: (1,d) / (n, d)\n",
    "    theta: (K, d)\n",
    "    y: (1,K) / (n, K) in one-hot coding\n",
    "\n",
    "    output: \n",
    "    res: (1,1) / (n, 1)\n",
    "    '''\n",
    "    res = np.where(y, np.exp(x.dot(theta_.T)), y) \n",
    "    # One-hot coding as the indicator, leaves out where it is 0 in l of x*theta.T\n",
    "    # np.where would return a copy in ndarray\n",
    "    return res.sum(axis=1, keepdims=1) / np.exp(x.dot(theta_.T)).sum(axis=1)\n",
    "\n",
    "\n",
    "def loss(x, y, theta_):\n",
    "    '''returns a scalar in float'''\n",
    "    return - np.log(Softmax(x, y, theta_)).sum() / len(x)\n",
    "\n",
    "\n",
    "def grad(x, y, theta_):\n",
    "    '''return (K, d)'''\n",
    "\n",
    "    def grad_j(j):\n",
    "        '''This function calculates the gradient for class j in (1, d)'''\n",
    "\n",
    "        tmp1 = np.mat(np.where(y[:,j], x, y[:, j])).sum(axis=0) \n",
    "        # The first term in gradient, reduced to (1, d)\n",
    "        padded_p = np.exp(x.dot(np.mat(theta_[j]).T)) / np.exp(x.dot(theta_.T)).sum(axis=1) + np.zeros((1,20)) \n",
    "        # Pad the probability Pr(j | X) to (n, d) to enable matrix multipliction\n",
    "        # Pr(j | X) not Pr(y[j] | X), what is relavant in y[i] has been dealt with in tmp1\n",
    "        tmp2 = np.prod([padded_p, x_train_std], axis=0).sum(axis=0) \n",
    "        # On the diagonal is the sum of probability*x_t; together the 2nd term, (1, d)\n",
    "\n",
    "        return  tmp2 - tmp1\n",
    "\n",
    "    def stack_v(a, b):\n",
    "        return np.vstack((a, b))\n",
    "    res = reduce(stack_v, [grad_j(j) for j in range(K)])\n",
    "\n",
    "    return res / len(x)\n",
    "        \n"
   ]
  },
  {
   "cell_type": "code",
   "execution_count": 12,
   "metadata": {},
   "outputs": [],
   "source": [
    "alpha = 0.01\n",
    "\n",
    "def AGD(ini_theta):   \n",
    "    theta = ini_theta - alpha * grad(x_train_std, y_train_dummy, ini_theta) \n",
    "    theta_old = ini_theta\n",
    "\n",
    "    train_loss = [loss(x_train_std, y_train_dummy, ini_theta)] # To record the training loss after each iteration\n",
    "    test_loss = [loss(x_test_std, y_test_dummy, ini_theta)] # testing loss\n",
    "    \n",
    "    # print('iter:')\n",
    "\n",
    "    for t in range(1, max_iter):\n",
    "        train_loss.append(loss(x_train_std, y_train_dummy, theta))\n",
    "        test_loss.append(loss(x_test_std, y_test_dummy, theta))\n",
    "\n",
    "        theta_v = theta + (t-1)/(t+2) * (theta - theta_old)\n",
    "        theta_new = theta_v - alpha * grad(x_train_std, y_train_dummy, theta_v)\n",
    "        \n",
    "        # print(t, end=' ')\n",
    "\n",
    "        theta_old, theta = theta, theta_new\n",
    "        \n",
    "    train_loss.append(loss(x_train_std, y_train_dummy, theta_new))\n",
    "    test_loss.append(loss(x_test_std, y_test_dummy, theta_new))\n",
    "\n",
    "    return theta_new, train_loss, test_loss"
   ]
  },
  {
   "cell_type": "code",
   "execution_count": 13,
   "metadata": {},
   "outputs": [
    {
     "name": "stdout",
     "output_type": "stream",
     "text": [
      "iter:\n"
     ]
    }
   ],
   "source": [
    "max_iter = 2000 \n",
    "\n",
    "a = np.random.random((K ,20))\n",
    "theta_fin, train_loss, test_loss = AGD(a)"
   ]
  },
  {
   "cell_type": "code",
   "execution_count": 291,
   "metadata": {},
   "outputs": [
    {
     "data": {
      "image/png": "[encoded data removed]",
      "text/plain": [
       "<Figure size 432x288 with 1 Axes>"
      ]
     },
     "metadata": {
      "needs_background": "light"
     },
     "output_type": "display_data"
    }
   ],
   "source": [
    "import matplotlib.pyplot as plt\n",
    "\n",
    "plt.plot(np.arange(1, max_iter+2), train_loss, c='darkorange', label='Train Loss')\n",
    "plt.plot(np.arange(1, max_iter+2), test_loss, c='blue', label='Test Loss')\n",
    "plt.xlabel(\"Iteration\")\n",
    "plt.ylabel(\"Total Loss\")\n",
    "plt.title(\"Train and Test Loss Curve by Multinomial Logistic Regression\")\n",
    "plt.legend()\n",
    "plt.show()"
   ]
  },
  {
   "cell_type": "code",
   "execution_count": 14,
   "metadata": {},
   "outputs": [],
   "source": [
    "# Prediction\n",
    "def predict(x):\n",
    "    '''\n",
    "    x: mat, (n, d)\n",
    "    theta_fin: mat, (K, d), the learnt parameters\n",
    "\n",
    "    output: \n",
    "    y_pred: array, (n,), whose elements all in range(0,4)\n",
    "    '''\n",
    "    y_pred = []\n",
    "    for xi in x:\n",
    "        l = np.diag(np.ones(4))\n",
    "        res = list(np.array(Softmax(xi, l, theta_fin)).T[0])\n",
    "        yi_pred = res.index(max(res))\n",
    "        y_pred.append(yi_pred)\n",
    "    return y_pred\n",
    "\n",
    "y_train_pred = predict(x_train_std)\n",
    "y_test_pred = predict(x_test_std)"
   ]
  },
  {
   "cell_type": "code",
   "execution_count": 15,
   "metadata": {},
   "outputs": [
    {
     "name": "stdout",
     "output_type": "stream",
     "text": [
      "The train accuracy: 0.6294117647058823\n",
      "The test accuracy: 0.62\n"
     ]
    }
   ],
   "source": [
    "# Accuracy\n",
    "from sklearn.metrics import accuracy_score\n",
    "\n",
    "print(f'The train accuracy: {accuracy_score(y_train, y_train_pred)}')\n",
    "print(f'The test accuracy: {accuracy_score(y_test, y_test_pred)}')"
   ]
  }
 ],
 "metadata": {
  "interpreter": {
   "hash": "aa48e8d173d0d33a449e17292a2418f510575051a9e7765eb3161de5801b18c4"
  },
  "kernelspec": {
   "display_name": "Python 3.9.0 64-bit",
   "language": "python",
   "name": "python3"
  },
  "language_info": {
   "codemirror_mode": {
    "name": "ipython",
    "version": 3
   },
   "file_extension": ".py",
   "mimetype": "text/x-python",
   "name": "python",
   "nbconvert_exporter": "python",
   "pygments_lexer": "ipython3",
   "version": "3.9.0"
  },
  "orig_nbformat": 4
 },
 "nbformat": 4,
 "nbformat_minor": 2
}
